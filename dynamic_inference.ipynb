{
 "nbformat": 4,
 "nbformat_minor": 2,
 "metadata": {
  "language_info": {
   "name": "python",
   "codemirror_mode": {
    "name": "ipython",
    "version": 3
   },
   "version": "3.8.1-final"
  },
  "orig_nbformat": 2,
  "file_extension": ".py",
  "mimetype": "text/x-python",
  "name": "python",
  "npconvert_exporter": "python",
  "pygments_lexer": "ipython3",
  "version": 3,
  "kernelspec": {
   "name": "python38264bitxgboostcondaeeb4759da44341a79543f52aa133fc65",
   "display_name": "Python 3.8.2 64-bit ('xgboost': conda)"
  }
 },
 "cells": [
  {
   "cell_type": "code",
   "execution_count": 1,
   "metadata": {},
   "outputs": [],
   "source": [
    "import logging\n",
    "import pickle\n",
    "import joblib\n",
    "import time\n",
    "\n",
    "import numpy as np\n",
    "import pandas as pd\n",
    "import xgboost as xgb\n",
    "import matplotlib.pyplot as plt\n",
    "\n",
    "from sklearn.metrics import mean_absolute_error\n",
    "from datetime import datetime"
   ]
  },
  {
   "cell_type": "code",
   "execution_count": 2,
   "metadata": {},
   "outputs": [
    {
     "output_type": "execute_result",
     "data": {
      "text/plain": "       Year  Month  DayofMonth  DayOfWeek  CRSDepTime  CRSArrTime  FlightNum  \\\n17236  1995      1          25          3        1710        1807        758   \n32157  2003      1          16          4        1445        1610       1027   \n3976   1988      1          18          1        1414        1510       1478   \n18567  1996      1          22          1         925        1140        420   \n37383  2005      1          19          3         740         855        589   \n\n       CRSElapsedTime  Distance  Cancelled  ...  Origin__STX  Origin__SWF  \\\n17236            57.0     198.0          0  ...            0            0   \n32157            85.0     334.0          0  ...            0            0   \n3976             56.0     258.0          0  ...            0            0   \n18567            75.0     369.0          0  ...            0            0   \n37383           135.0     642.0          0  ...            0            0   \n\n       Origin__SYR  Origin__TLH  Origin__TPA  Origin__TRI  Origin__TUL  \\\n17236            0            0            0            0            0   \n32157            0            0            0            0            0   \n3976             0            0            0            0            0   \n18567            0            0            0            0            0   \n37383            0            0            0            0            0   \n\n       Origin__TUS  Origin__TYS  Origin__UCA  \n17236            0            0            0  \n32157            0            0            0  \n3976             0            0            0  \n18567            0            0            0  \n37383            0            0            0  \n\n[5 rows x 286 columns]",
      "text/html": "<div>\n<style scoped>\n    .dataframe tbody tr th:only-of-type {\n        vertical-align: middle;\n    }\n\n    .dataframe tbody tr th {\n        vertical-align: top;\n    }\n\n    .dataframe thead th {\n        text-align: right;\n    }\n</style>\n<table border=\"1\" class=\"dataframe\">\n  <thead>\n    <tr style=\"text-align: right;\">\n      <th></th>\n      <th>Year</th>\n      <th>Month</th>\n      <th>DayofMonth</th>\n      <th>DayOfWeek</th>\n      <th>CRSDepTime</th>\n      <th>CRSArrTime</th>\n      <th>FlightNum</th>\n      <th>CRSElapsedTime</th>\n      <th>Distance</th>\n      <th>Cancelled</th>\n      <th>...</th>\n      <th>Origin__STX</th>\n      <th>Origin__SWF</th>\n      <th>Origin__SYR</th>\n      <th>Origin__TLH</th>\n      <th>Origin__TPA</th>\n      <th>Origin__TRI</th>\n      <th>Origin__TUL</th>\n      <th>Origin__TUS</th>\n      <th>Origin__TYS</th>\n      <th>Origin__UCA</th>\n    </tr>\n  </thead>\n  <tbody>\n    <tr>\n      <th>17236</th>\n      <td>1995</td>\n      <td>1</td>\n      <td>25</td>\n      <td>3</td>\n      <td>1710</td>\n      <td>1807</td>\n      <td>758</td>\n      <td>57.0</td>\n      <td>198.0</td>\n      <td>0</td>\n      <td>...</td>\n      <td>0</td>\n      <td>0</td>\n      <td>0</td>\n      <td>0</td>\n      <td>0</td>\n      <td>0</td>\n      <td>0</td>\n      <td>0</td>\n      <td>0</td>\n      <td>0</td>\n    </tr>\n    <tr>\n      <th>32157</th>\n      <td>2003</td>\n      <td>1</td>\n      <td>16</td>\n      <td>4</td>\n      <td>1445</td>\n      <td>1610</td>\n      <td>1027</td>\n      <td>85.0</td>\n      <td>334.0</td>\n      <td>0</td>\n      <td>...</td>\n      <td>0</td>\n      <td>0</td>\n      <td>0</td>\n      <td>0</td>\n      <td>0</td>\n      <td>0</td>\n      <td>0</td>\n      <td>0</td>\n      <td>0</td>\n      <td>0</td>\n    </tr>\n    <tr>\n      <th>3976</th>\n      <td>1988</td>\n      <td>1</td>\n      <td>18</td>\n      <td>1</td>\n      <td>1414</td>\n      <td>1510</td>\n      <td>1478</td>\n      <td>56.0</td>\n      <td>258.0</td>\n      <td>0</td>\n      <td>...</td>\n      <td>0</td>\n      <td>0</td>\n      <td>0</td>\n      <td>0</td>\n      <td>0</td>\n      <td>0</td>\n      <td>0</td>\n      <td>0</td>\n      <td>0</td>\n      <td>0</td>\n    </tr>\n    <tr>\n      <th>18567</th>\n      <td>1996</td>\n      <td>1</td>\n      <td>22</td>\n      <td>1</td>\n      <td>925</td>\n      <td>1140</td>\n      <td>420</td>\n      <td>75.0</td>\n      <td>369.0</td>\n      <td>0</td>\n      <td>...</td>\n      <td>0</td>\n      <td>0</td>\n      <td>0</td>\n      <td>0</td>\n      <td>0</td>\n      <td>0</td>\n      <td>0</td>\n      <td>0</td>\n      <td>0</td>\n      <td>0</td>\n    </tr>\n    <tr>\n      <th>37383</th>\n      <td>2005</td>\n      <td>1</td>\n      <td>19</td>\n      <td>3</td>\n      <td>740</td>\n      <td>855</td>\n      <td>589</td>\n      <td>135.0</td>\n      <td>642.0</td>\n      <td>0</td>\n      <td>...</td>\n      <td>0</td>\n      <td>0</td>\n      <td>0</td>\n      <td>0</td>\n      <td>0</td>\n      <td>0</td>\n      <td>0</td>\n      <td>0</td>\n      <td>0</td>\n      <td>0</td>\n    </tr>\n  </tbody>\n</table>\n<p>5 rows × 286 columns</p>\n</div>"
     },
     "metadata": {},
     "execution_count": 2
    }
   ],
   "source": [
    "training_examples = pd.read_pickle(\"data/airlines_training_examples.pkl\")\n",
    "training_examples.head()"
   ]
  },
  {
   "cell_type": "code",
   "execution_count": 3,
   "metadata": {},
   "outputs": [
    {
     "output_type": "execute_result",
     "data": {
      "text/plain": "       Year  Month  DayofMonth  DayOfWeek  CRSDepTime  CRSArrTime  FlightNum  \\\n16911  1995      1           2          1        1225        1332       2181   \n2393   1988      1           7          4        2059        2229        951   \n29869  2001      1           2          2        1921        2100        442   \n2493   1988      1          30          6        1850        1955        954   \n7501   1990      1          24          3         935        1109         53   \n\n       CRSElapsedTime  Distance  Cancelled  ...  Origin__STX  Origin__SWF  \\\n16911            67.0     238.0          0  ...            0            0   \n2393             90.0     461.0          1  ...            0            0   \n29869            99.0     526.0          0  ...            0            0   \n2493             65.0     278.0          0  ...            0            0   \n7501            274.0    1814.0          0  ...            0            0   \n\n       Origin__SYR  Origin__TLH  Origin__TPA  Origin__TRI  Origin__TUL  \\\n16911            0            0            0            0            0   \n2393             0            0            0            0            0   \n29869            0            0            0            0            0   \n2493             0            0            0            0            0   \n7501             0            0            0            0            0   \n\n       Origin__TUS  Origin__TYS  Origin__UCA  \n16911            0            0            0  \n2393             0            0            0  \n29869            0            0            0  \n2493             0            0            0  \n7501             0            0            0  \n\n[5 rows x 286 columns]",
      "text/html": "<div>\n<style scoped>\n    .dataframe tbody tr th:only-of-type {\n        vertical-align: middle;\n    }\n\n    .dataframe tbody tr th {\n        vertical-align: top;\n    }\n\n    .dataframe thead th {\n        text-align: right;\n    }\n</style>\n<table border=\"1\" class=\"dataframe\">\n  <thead>\n    <tr style=\"text-align: right;\">\n      <th></th>\n      <th>Year</th>\n      <th>Month</th>\n      <th>DayofMonth</th>\n      <th>DayOfWeek</th>\n      <th>CRSDepTime</th>\n      <th>CRSArrTime</th>\n      <th>FlightNum</th>\n      <th>CRSElapsedTime</th>\n      <th>Distance</th>\n      <th>Cancelled</th>\n      <th>...</th>\n      <th>Origin__STX</th>\n      <th>Origin__SWF</th>\n      <th>Origin__SYR</th>\n      <th>Origin__TLH</th>\n      <th>Origin__TPA</th>\n      <th>Origin__TRI</th>\n      <th>Origin__TUL</th>\n      <th>Origin__TUS</th>\n      <th>Origin__TYS</th>\n      <th>Origin__UCA</th>\n    </tr>\n  </thead>\n  <tbody>\n    <tr>\n      <th>16911</th>\n      <td>1995</td>\n      <td>1</td>\n      <td>2</td>\n      <td>1</td>\n      <td>1225</td>\n      <td>1332</td>\n      <td>2181</td>\n      <td>67.0</td>\n      <td>238.0</td>\n      <td>0</td>\n      <td>...</td>\n      <td>0</td>\n      <td>0</td>\n      <td>0</td>\n      <td>0</td>\n      <td>0</td>\n      <td>0</td>\n      <td>0</td>\n      <td>0</td>\n      <td>0</td>\n      <td>0</td>\n    </tr>\n    <tr>\n      <th>2393</th>\n      <td>1988</td>\n      <td>1</td>\n      <td>7</td>\n      <td>4</td>\n      <td>2059</td>\n      <td>2229</td>\n      <td>951</td>\n      <td>90.0</td>\n      <td>461.0</td>\n      <td>1</td>\n      <td>...</td>\n      <td>0</td>\n      <td>0</td>\n      <td>0</td>\n      <td>0</td>\n      <td>0</td>\n      <td>0</td>\n      <td>0</td>\n      <td>0</td>\n      <td>0</td>\n      <td>0</td>\n    </tr>\n    <tr>\n      <th>29869</th>\n      <td>2001</td>\n      <td>1</td>\n      <td>2</td>\n      <td>2</td>\n      <td>1921</td>\n      <td>2100</td>\n      <td>442</td>\n      <td>99.0</td>\n      <td>526.0</td>\n      <td>0</td>\n      <td>...</td>\n      <td>0</td>\n      <td>0</td>\n      <td>0</td>\n      <td>0</td>\n      <td>0</td>\n      <td>0</td>\n      <td>0</td>\n      <td>0</td>\n      <td>0</td>\n      <td>0</td>\n    </tr>\n    <tr>\n      <th>2493</th>\n      <td>1988</td>\n      <td>1</td>\n      <td>30</td>\n      <td>6</td>\n      <td>1850</td>\n      <td>1955</td>\n      <td>954</td>\n      <td>65.0</td>\n      <td>278.0</td>\n      <td>0</td>\n      <td>...</td>\n      <td>0</td>\n      <td>0</td>\n      <td>0</td>\n      <td>0</td>\n      <td>0</td>\n      <td>0</td>\n      <td>0</td>\n      <td>0</td>\n      <td>0</td>\n      <td>0</td>\n    </tr>\n    <tr>\n      <th>7501</th>\n      <td>1990</td>\n      <td>1</td>\n      <td>24</td>\n      <td>3</td>\n      <td>935</td>\n      <td>1109</td>\n      <td>53</td>\n      <td>274.0</td>\n      <td>1814.0</td>\n      <td>0</td>\n      <td>...</td>\n      <td>0</td>\n      <td>0</td>\n      <td>0</td>\n      <td>0</td>\n      <td>0</td>\n      <td>0</td>\n      <td>0</td>\n      <td>0</td>\n      <td>0</td>\n      <td>0</td>\n    </tr>\n  </tbody>\n</table>\n<p>5 rows × 286 columns</p>\n</div>"
     },
     "metadata": {},
     "execution_count": 3
    }
   ],
   "source": [
    "test_examples = pd.read_pickle(\"data/airlines_test_examples.pkl\")\n",
    "test_examples.head()"
   ]
  },
  {
   "cell_type": "code",
   "execution_count": 6,
   "metadata": {},
   "outputs": [
    {
     "output_type": "stream",
     "name": "stdout",
     "text": "Shape of training examples(30784, 286)\nShape of training target(30784,)\n"
    }
   ],
   "source": [
    "f = open(\"data/airlines_training_targets.pkl\", \"rb\")\n",
    "training_targets = pickle.load(f)\n",
    "f.close()\n",
    "print(f\"Shape of training examples{training_examples.shape}\")\n",
    "print(f\"Shape of training target{training_targets.shape}\")"
   ]
  },
  {
   "cell_type": "code",
   "execution_count": 14,
   "metadata": {},
   "outputs": [
    {
     "output_type": "stream",
     "name": "stdout",
     "text": "[0]\ttrain-error:0.37926\n[1]\ttrain-error:0.37487\n"
    }
   ],
   "source": [
    "#Functions to get a data\n",
    "def get_train_points():\n",
    "    return np.asarray(training_examples.values.tolist())\n",
    "\n",
    "def get_test_points(start_row_index, end_row_index):\n",
    "    return test_examples.iloc[start_row_index:end_row_index].values.tolist()\n",
    "\n",
    "def get_test_point(row_index):\n",
    "    return test_examples.iloc[row_index].tolist()\n",
    "\n",
    "#Create a training matrix\n",
    "dtrain = xgb.DMatrix(get_train_points(),\n",
    "                     label=training_targets)\n",
    "                    \n",
    "param = {'max_depth': 2,\n",
    "         'eta': 1,\n",
    "         'silent': 1,\n",
    "         'objective': 'binary:logistic'}\n",
    "watchlist = [(dtrain, 'train')]\n",
    "num_round = 2\n",
    "bst = xgb.train(param, dtrain, num_round, watchlist)"
   ]
  },
  {
   "cell_type": "code",
   "execution_count": null,
   "metadata": {},
   "outputs": [],
   "source": []
  }
 ]
}