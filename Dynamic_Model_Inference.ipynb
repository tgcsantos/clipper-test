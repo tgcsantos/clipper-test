{
 "cells": [
  {
   "cell_type": "markdown",
   "metadata": {},
   "source": [
    "## Dynamic Inference (Serving Models in Production via REST)\n",
    "Inference is the term used to describe the process of using a pre-trained model to make predictions for unseen data.\n",
    "Dynamic Inference is the term used to describe making predictions on demand, using a server. \n",
    "\n",
    "This notebook is a walk through for how to serve a machine learning model using a low latency prediction servering system called **[clipper.ai](http://clipper.ai/)**. \n",
    "clipper can be hosted on your favorite cloud provider or on-premise.\n",
    "\n",
    "Overview \n",
    "+ Model training\n",
    "+ Clipper cluster creation\n",
    "+ App creation & model deployment\n",
    "+ Model query (single row, multiple rows) via Python requests & curl\n",
    "+ Model versioning update \n",
    "+ Model versioning rollback\n",
    "+ Model replication\n",
    "\n",
    "References:\n",
    "+ [clipper.ai documentation](http://clipper.ai/)\n",
    "\n",
    "+ [clipper @github](https://github.com/ucbrise/clipper)"
   ]
  },
  {
   "cell_type": "markdown",
   "metadata": {},
   "source": [
    "### Model Training\n",
    "Before we can serve a model, we must first train it. Model training is an iterative process often persisting artifacts to disk. After model has been trained, we can load the model back into memory (RAM) when serving."
   ]
  },
  {
   "cell_type": "code",
   "execution_count": 1,
   "metadata": {},
   "outputs": [
    {
     "name": "stdout",
     "output_type": "stream",
     "text": [
      "[0]\ttrain-error:0.378671\n",
      "[1]\ttrain-error:0.375975\n"
     ]
    }
   ],
   "source": [
    "import logging, xgboost as xgb, numpy as np\n",
    "from sklearn.metrics import mean_absolute_error\n",
    "import joblib\n",
    "import pandas as pd\n",
    "from datetime import datetime\n",
    "import pickle\n",
    "import time\n",
    "import matplotlib.pyplot as plt\n",
    "plt.show(block=True)\n",
    "\n",
    "training_examples = pd.read_pickle(\"../data/processed/airlines_training_examples.pkl\")\n",
    "f1=open(\"../data/processed/airlines_training_targets.pkl\",'rb')\n",
    "training_targets = pickle.load(f1) \n",
    "f1.close()\n",
    "test_examples = pd.read_pickle(\"../data/processed/airlines_test_examples.pkl\")\n",
    "\n",
    "def get_train_points():\n",
    "     return training_examples.values.tolist()\n",
    "\n",
    "def get_test_points(start_row_index,end_row_index):\n",
    "    return test_examples.iloc[start_row_index:end_row_index].values.tolist()\n",
    "\n",
    "def get_test_point(row_index):\n",
    "     return test_examples.iloc[row_index].tolist()\n",
    "    \n",
    "# Create a training matrix.\n",
    "dtrain = xgb.DMatrix(get_train_points(), label=training_targets)\n",
    "# We then create parameters, watchlist, and specify the number of rounds\n",
    "# This is code that we use to build our XGBoost Model, and your code may differ.\n",
    "param = {'max_depth': 2, 'eta': 1, 'silent': 1, 'objective': 'binary:logistic'}\n",
    "watchlist = [(dtrain, 'train')]\n",
    "num_round = 2\n",
    "bst = xgb.train(param, dtrain, num_round, watchlist)"
   ]
  },
  {
   "cell_type": "code",
   "execution_count": 2,
   "metadata": {},
   "outputs": [
    {
     "name": "stdout",
     "output_type": "stream",
     "text": [
      "Predict instances in test set using custom defined scoring function...\n"
     ]
    },
    {
     "data": {
      "text/plain": [
       "array([0.9041093 , 0.87798643, 0.9511411 , ..., 0.86522025, 0.87798643,\n",
       "       0.87798643], dtype=float32)"
      ]
     },
     "execution_count": 2,
     "metadata": {},
     "output_type": "execute_result"
    }
   ],
   "source": [
    "def predict(xs):\n",
    "    result = bst.predict(xgb.DMatrix(xs))\n",
    "    return result \n",
    "# make predictions\n",
    "predictions = predict(test_examples.values)\n",
    "print(\"Predict instances in test set using custom defined scoring function...\")\n",
    "predictions"
   ]
  },
  {
   "cell_type": "markdown",
   "metadata": {},
   "source": [
    "### Clipper Cluster Creation"
   ]
  },
  {
   "cell_type": "code",
   "execution_count": 3,
   "metadata": {},
   "outputs": [
    {
     "name": "stderr",
     "output_type": "stream",
     "text": [
      "18-08-22:00:19:15 INFO     [docker_container_manager.py:151] [default-cluster] Starting managed Redis instance in Docker\n"
     ]
    },
    {
     "name": "stdout",
     "output_type": "stream",
     "text": [
      "Start Clipper...\n"
     ]
    },
    {
     "name": "stderr",
     "output_type": "stream",
     "text": [
      "18-08-22:00:19:17 INFO     [docker_container_manager.py:229] [default-cluster] Metric Configuration Saved at /private/var/folders/kv/w56d6z9j4c79zvw8c8jsn6hw0000gn/T/tmpnagwxgkh.yml\n",
      "18-08-22:00:19:18 INFO     [clipper_admin.py:138] [default-cluster] Clipper is running\n"
     ]
    }
   ],
   "source": [
    "from clipper_admin import ClipperConnection, DockerContainerManager\n",
    "clipper_conn = ClipperConnection(DockerContainerManager())\n",
    "print(\"Start Clipper...\")\n",
    "clipper_conn.start_clipper()"
   ]
  },
  {
   "cell_type": "markdown",
   "metadata": {},
   "source": [
    "### App Creation & Model Deployment"
   ]
  },
  {
   "cell_type": "code",
   "execution_count": 4,
   "metadata": {},
   "outputs": [
    {
     "name": "stderr",
     "output_type": "stream",
     "text": [
      "18-08-22:00:19:21 INFO     [clipper_admin.py:215] [default-cluster] Application xgboost-airlines was successfully registered\n",
      "18-08-22:00:19:21 INFO     [deployer_utils.py:41] Saving function to /var/folders/kv/w56d6z9j4c79zvw8c8jsn6hw0000gn/T/tmpnonwe561clipper\n",
      "18-08-22:00:19:21 INFO     [deployer_utils.py:51] Serialized and supplied predict function\n",
      "18-08-22:00:19:21 INFO     [python.py:192] Python closure saved\n",
      "18-08-22:00:19:21 INFO     [python.py:206] Using Python 3.6 base image\n",
      "18-08-22:00:19:21 INFO     [clipper_admin.py:467] [default-cluster] Building model Docker image with model data from /var/folders/kv/w56d6z9j4c79zvw8c8jsn6hw0000gn/T/tmpnonwe561clipper\n"
     ]
    },
    {
     "name": "stdout",
     "output_type": "stream",
     "text": [
      "Register Clipper application...\n",
      "Deploy predict function closure using Clipper...\n"
     ]
    },
    {
     "name": "stderr",
     "output_type": "stream",
     "text": [
      "18-08-22:00:19:22 INFO     [clipper_admin.py:472] [default-cluster] Step 1/3 : FROM clipper/python36-closure-container:develop\n",
      "18-08-22:00:19:22 INFO     [clipper_admin.py:472] [default-cluster]  ---> 0fac6e6e8242\n",
      "18-08-22:00:19:22 INFO     [clipper_admin.py:472] [default-cluster] Step 2/3 : RUN apt-get -y install build-essential && pip install xgboost\n",
      "18-08-22:00:19:22 INFO     [clipper_admin.py:472] [default-cluster]  ---> Using cache\n",
      "18-08-22:00:19:22 INFO     [clipper_admin.py:472] [default-cluster]  ---> 761b4e2e5cea\n",
      "18-08-22:00:19:22 INFO     [clipper_admin.py:472] [default-cluster] Step 3/3 : COPY /var/folders/kv/w56d6z9j4c79zvw8c8jsn6hw0000gn/T/tmpnonwe561clipper /model/\n",
      "18-08-22:00:19:22 INFO     [clipper_admin.py:472] [default-cluster]  ---> 791bea6320e2\n",
      "18-08-22:00:19:22 INFO     [clipper_admin.py:472] [default-cluster] Successfully built 791bea6320e2\n",
      "18-08-22:00:19:22 INFO     [clipper_admin.py:472] [default-cluster] Successfully tagged default-cluster-xgboost-model:1\n",
      "18-08-22:00:19:22 INFO     [clipper_admin.py:474] [default-cluster] Pushing model Docker image to default-cluster-xgboost-model:1\n",
      "18-08-22:00:19:24 INFO     [docker_container_manager.py:353] [default-cluster] Found 0 replicas for xgboost-model:1. Adding 1\n",
      "18-08-22:00:19:30 INFO     [clipper_admin.py:651] [default-cluster] Successfully registered model xgboost-model:1\n",
      "18-08-22:00:19:30 INFO     [clipper_admin.py:569] [default-cluster] Done deploying model xgboost-model:1.\n"
     ]
    }
   ],
   "source": [
    "from clipper_admin.deployers import python as python_deployer\n",
    "print(\"Register Clipper application...\")\n",
    "clipper_conn.register_application('xgboost-airlines', 'doubles', 'default_pred', 100000)\n",
    "\n",
    "# We specify which packages to install in the pkgs_to_install arg.\n",
    "# For example, if we wanted to install xgboost and psycopg2, we would use\n",
    "# pkgs_to_install = ['xgboost', 'psycopg2']\n",
    "print(\"Deploy predict function closure using Clipper...\")\n",
    "python_deployer.deploy_python_closure(clipper_conn, name='xgboost-model', version=1,\n",
    "    input_type=\"doubles\", func=predict, pkgs_to_install=['xgboost'])"
   ]
  },
  {
   "cell_type": "code",
   "execution_count": 5,
   "metadata": {},
   "outputs": [
    {
     "name": "stderr",
     "output_type": "stream",
     "text": [
      "18-08-22:00:19:34 INFO     [clipper_admin.py:277] [default-cluster] Model xgboost-model is now linked to application xgboost-airlines\n"
     ]
    },
    {
     "name": "stdout",
     "output_type": "stream",
     "text": [
      "Link Clipper connection to model application...\n"
     ]
    }
   ],
   "source": [
    "print(\"Link Clipper connection to model application...\")\n",
    "clipper_conn.link_model_to_app('xgboost-airlines', 'xgboost-model')"
   ]
  },
  {
   "cell_type": "markdown",
   "metadata": {},
   "source": [
    "### Query Model via Python requests module"
   ]
  },
  {
   "cell_type": "code",
   "execution_count": 6,
   "metadata": {},
   "outputs": [
    {
     "name": "stdout",
     "output_type": "stream",
     "text": [
      "Model predict for a single instance via Python requests POST request & parse response...\n"
     ]
    },
    {
     "data": {
      "text/plain": [
       "{'query_id': 0, 'output': 0.9041093, 'default': False}"
      ]
     },
     "execution_count": 6,
     "metadata": {},
     "output_type": "execute_result"
    }
   ],
   "source": [
    "import requests, json\n",
    "# Get Address\n",
    "addr = clipper_conn.get_query_addr()\n",
    "print(\"Model predict for a single instance via Python requests POST request & parse response...\")\n",
    "\n",
    "# Post Query\n",
    "response = requests.post(\n",
    "     \"http://%s/%s/predict\" % (addr, 'xgboost-airlines'),\n",
    "     headers={\"Content-type\": \"application/json\"},\n",
    "     data=json.dumps({\n",
    "         'input': get_test_point(0)\n",
    "     }))\n",
    "result = response.json() \n",
    "result"
   ]
  },
  {
   "cell_type": "markdown",
   "metadata": {},
   "source": [
    "### Query Model (single row)"
   ]
  },
  {
   "cell_type": "code",
   "execution_count": 7,
   "metadata": {},
   "outputs": [
    {
     "name": "stdout",
     "output_type": "stream",
     "text": [
      "Model predict for a single instance via Python requests POST request...\n"
     ]
    },
    {
     "data": {
      "text/plain": [
       "{'query_id': 1, 'output': 0.9041093, 'default': False}"
      ]
     },
     "execution_count": 7,
     "metadata": {},
     "output_type": "execute_result"
    }
   ],
   "source": [
    "import requests, json, numpy as np\n",
    "print(\"Model predict for a single instance via Python requests POST request...\")\n",
    "headers = {\"Content-type\": \"application/json\"}\n",
    "requests.post(\"http://localhost:1337/xgboost-airlines/predict\", headers=headers, data=json.dumps({\"input\": get_test_point(0)})).json()"
   ]
  },
  {
   "cell_type": "markdown",
   "metadata": {},
   "source": [
    "### Query Model (multiple rows)"
   ]
  },
  {
   "cell_type": "code",
   "execution_count": 8,
   "metadata": {},
   "outputs": [
    {
     "name": "stdout",
     "output_type": "stream",
     "text": [
      "Model predict for a batch of instances via Python requests POST request...\n"
     ]
    },
    {
     "data": {
      "text/plain": [
       "{'batch_predictions': [{'query_id': 2, 'output': 0.9041093, 'default': False},\n",
       "  {'query_id': 3, 'output': 0.87798643, 'default': False}]}"
      ]
     },
     "execution_count": 8,
     "metadata": {},
     "output_type": "execute_result"
    }
   ],
   "source": [
    "import requests, json, numpy as np\n",
    "print(\"Model predict for a batch of instances via Python requests POST request...\")\n",
    "headers = {\"Content-type\": \"application/json\"}\n",
    "requests.post(\"http://localhost:1337/xgboost-airlines/predict\", headers=headers, \n",
    "              data=json.dumps({\"input_batch\": get_test_points(0,2)})).json()"
   ]
  },
  {
   "cell_type": "markdown",
   "metadata": {},
   "source": [
    "### Query Model via curl"
   ]
  },
  {
   "cell_type": "code",
   "execution_count": 9,
   "metadata": {},
   "outputs": [
    {
     "name": "stdout",
     "output_type": "stream",
     "text": [
      "Model predict for a single instance via curl...\n",
      "{\"query_id\":4,\"output\":0.9041093,\"default\":false}"
     ]
    }
   ],
   "source": [
    "get_test_point(0)\n",
    "print(\"Model predict for a single instance via curl...\")\n",
    "!curl -X POST --header \"Content-Type:application/json\" -d '{\"input\": [1987.0, 10.0, 1.0, 4.0, 1250.0, 1340.0, 1509.0, 50.0, 226.0, 0.0, 0.0, 0.0, 0.0, 0.0, 0.0, 1.0, 0.0, 0.0, 0.0, 0.0, 0.0, 0.0, 0.0, 0.0, 0.0, 0.0, 0.0, 0.0, 0.0, 0.0, 0.0, 0.0, 0.0, 0.0, 0.0, 0.0, 0.0, 0.0, 0.0, 0.0, 0.0, 0.0, 0.0, 0.0, 0.0, 0.0, 0.0, 0.0, 0.0, 0.0, 0.0, 0.0, 0.0, 0.0, 0.0, 0.0, 0.0, 0.0, 0.0, 0.0, 0.0, 0.0, 0.0, 0.0, 0.0, 0.0, 0.0, 0.0, 0.0, 0.0, 0.0, 0.0, 0.0, 0.0, 0.0, 0.0, 0.0, 0.0, 0.0, 0.0, 0.0, 0.0, 0.0, 0.0, 0.0, 0.0, 0.0, 0.0, 0.0, 0.0, 0.0, 0.0, 0.0, 0.0, 0.0, 0.0, 0.0, 0.0, 0.0, 0.0, 0.0, 0.0, 0.0, 0.0, 0.0, 0.0, 0.0, 0.0, 0.0, 0.0, 0.0, 0.0, 0.0, 0.0, 0.0, 0.0, 0.0, 0.0, 0.0, 0.0, 0.0, 0.0, 0.0, 0.0, 0.0, 0.0, 0.0, 0.0, 0.0, 0.0, 0.0, 0.0, 0.0, 0.0, 0.0, 0.0, 0.0, 0.0, 0.0, 0.0, 0.0, 0.0, 0.0, 1.0, 0.0, 0.0, 0.0, 0.0, 0.0, 0.0, 0.0, 0.0, 0.0, 0.0, 0.0, 0.0, 0.0, 0.0, 0.0, 0.0, 0.0, 0.0, 0.0, 0.0, 0.0, 0.0, 0.0, 0.0, 0.0, 0.0, 0.0, 0.0, 0.0, 0.0, 0.0, 0.0, 0.0, 0.0, 0.0, 0.0, 0.0, 0.0, 0.0, 0.0, 0.0, 0.0, 0.0, 0.0, 0.0, 0.0, 0.0, 0.0, 0.0, 0.0, 0.0, 0.0, 0.0, 0.0, 0.0, 0.0, 0.0, 0.0, 0.0, 0.0, 0.0, 0.0, 0.0, 0.0, 0.0, 0.0, 0.0, 0.0, 0.0, 0.0, 0.0, 1.0, 0.0, 0.0, 0.0, 0.0, 0.0, 0.0, 0.0, 0.0, 0.0, 0.0, 0.0, 0.0, 0.0, 0.0, 0.0, 0.0, 0.0, 0.0, 0.0, 0.0, 0.0, 0.0, 0.0, 0.0, 0.0, 0.0, 0.0, 0.0, 0.0, 0.0, 0.0, 0.0, 0.0, 0.0, 0.0, 0.0, 0.0, 0.0, 0.0, 0.0, 0.0, 0.0, 0.0, 0.0, 0.0, 0.0, 0.0, 0.0, 0.0, 0.0, 0.0, 0.0, 0.0, 0.0, 0.0, 0.0, 0.0, 0.0, 0.0, 0.0, 0.0, 0.0, 0.0, 0.0, 0.0, 0.0, 0.0, 0.0, 0.0, 0.0]}' 127.0.0.1:1337/xgboost-airlines/predict"
   ]
  },
  {
   "cell_type": "markdown",
   "metadata": {},
   "source": [
    "### Model Update\n",
    "Suppose you found a new set of hyper-parameters which increase the predictive power of your model. You found that it yields better prediction results than the first model you deployed. We decide to deploy version 2 of our XGBoost model.\n",
    "\n",
    "Let's first retrain v2..."
   ]
  },
  {
   "cell_type": "code",
   "execution_count": 13,
   "metadata": {},
   "outputs": [
    {
     "name": "stdout",
     "output_type": "stream",
     "text": [
      "[0]\ttrain-error:0.369608\n",
      "[1]\ttrain-error:0.351091\n"
     ]
    }
   ],
   "source": [
    "# Create a training matrix.\n",
    "dtrain = xgb.DMatrix(get_train_points(), label=training_targets)\n",
    "# We then create parameters, watchlist, and specify the number of rounds\n",
    "# This is code that we use to build our XGBoost Model, and your code may differ.\n",
    "param = {'max_depth': 3, 'eta': 1, 'silent': 1, 'objective': 'binary:logistic'}\n",
    "watchlist = [(dtrain, 'train')]\n",
    "num_round = 2\n",
    "bst_v2 = xgb.train(param, dtrain, num_round, watchlist)"
   ]
  },
  {
   "cell_type": "code",
   "execution_count": 14,
   "metadata": {},
   "outputs": [
    {
     "name": "stdout",
     "output_type": "stream",
     "text": [
      "Predict instances in test set using custom defined scoring function...\n"
     ]
    },
    {
     "data": {
      "text/plain": [
       "array([0.8924916, 0.7657896, 0.8924916, ..., 0.9179656, 0.7657896,\n",
       "       0.7657896], dtype=float32)"
      ]
     },
     "execution_count": 14,
     "metadata": {},
     "output_type": "execute_result"
    }
   ],
   "source": [
    "def predict(xs):\n",
    "    result = bst_v2.predict(xgb.DMatrix(xs))\n",
    "    return result \n",
    "# make predictions\n",
    "predictions = predict(test_examples.values)\n",
    "print(\"Predict instances in test set using custom defined scoring function...\")\n",
    "predictions"
   ]
  },
  {
   "cell_type": "code",
   "execution_count": 15,
   "metadata": {},
   "outputs": [
    {
     "name": "stderr",
     "output_type": "stream",
     "text": [
      "18-08-22:00:26:38 INFO     [deployer_utils.py:41] Saving function to /var/folders/kv/w56d6z9j4c79zvw8c8jsn6hw0000gn/T/tmplfrzglliclipper\n",
      "18-08-22:00:26:38 INFO     [deployer_utils.py:51] Serialized and supplied predict function\n",
      "18-08-22:00:26:38 INFO     [python.py:192] Python closure saved\n",
      "18-08-22:00:26:38 INFO     [python.py:206] Using Python 3.6 base image\n",
      "18-08-22:00:26:38 INFO     [clipper_admin.py:467] [default-cluster] Building model Docker image with model data from /var/folders/kv/w56d6z9j4c79zvw8c8jsn6hw0000gn/T/tmplfrzglliclipper\n",
      "18-08-22:00:26:39 INFO     [clipper_admin.py:472] [default-cluster] Step 1/3 : FROM clipper/python36-closure-container:develop\n",
      "18-08-22:00:26:39 INFO     [clipper_admin.py:472] [default-cluster]  ---> 0fac6e6e8242\n",
      "18-08-22:00:26:39 INFO     [clipper_admin.py:472] [default-cluster] Step 2/3 : RUN apt-get -y install build-essential && pip install xgboost\n",
      "18-08-22:00:26:39 INFO     [clipper_admin.py:472] [default-cluster]  ---> Using cache\n",
      "18-08-22:00:26:39 INFO     [clipper_admin.py:472] [default-cluster]  ---> 761b4e2e5cea\n",
      "18-08-22:00:26:39 INFO     [clipper_admin.py:472] [default-cluster] Step 3/3 : COPY /var/folders/kv/w56d6z9j4c79zvw8c8jsn6hw0000gn/T/tmplfrzglliclipper /model/\n",
      "18-08-22:00:26:39 INFO     [clipper_admin.py:472] [default-cluster]  ---> f4672d4d2cb3\n",
      "18-08-22:00:26:39 INFO     [clipper_admin.py:472] [default-cluster] Successfully built f4672d4d2cb3\n",
      "18-08-22:00:26:39 INFO     [clipper_admin.py:472] [default-cluster] Successfully tagged default-cluster-xgboostv2-model:2\n",
      "18-08-22:00:26:39 INFO     [clipper_admin.py:474] [default-cluster] Pushing model Docker image to default-cluster-xgboostv2-model:2\n",
      "18-08-22:00:26:40 INFO     [docker_container_manager.py:353] [default-cluster] Found 0 replicas for xgboostv2-model:2. Adding 1\n",
      "18-08-22:00:26:47 INFO     [clipper_admin.py:651] [default-cluster] Successfully registered model xgboostv2-model:2\n",
      "18-08-22:00:26:47 INFO     [clipper_admin.py:569] [default-cluster] Done deploying model xgboostv2-model:2.\n"
     ]
    }
   ],
   "source": [
    "# Deploy the 'predict' function as a model (to a new container)... observe the name change\n",
    "python_deployer.deploy_python_closure(clipper_conn, name='xgboostv2-model', version=2,\n",
    "    input_type=\"doubles\", func=predict, pkgs_to_install=['xgboost'])"
   ]
  },
  {
   "cell_type": "markdown",
   "metadata": {},
   "source": [
    "### Query Model (single row)"
   ]
  },
  {
   "cell_type": "code",
   "execution_count": 17,
   "metadata": {},
   "outputs": [
    {
     "name": "stdout",
     "output_type": "stream",
     "text": [
      "Model predict for a single instance via Python requests POST request...\n"
     ]
    },
    {
     "data": {
      "text/plain": [
       "{'query_id': 5, 'output': 0.9041093, 'default': False}"
      ]
     },
     "execution_count": 17,
     "metadata": {},
     "output_type": "execute_result"
    }
   ],
   "source": [
    "import requests, json, numpy as np\n",
    "print(\"Model predict for a single instance via Python requests POST request...\")\n",
    "headers = {\"Content-type\": \"application/json\"}\n",
    "requests.post(\"http://localhost:1337/xgboost-airlines/predict\", headers=headers, \n",
    "              data=json.dumps({\"input\": get_test_point(0)})).json()"
   ]
  },
  {
   "cell_type": "markdown",
   "metadata": {},
   "source": [
    "### Model Rollback\n",
    "Suppose you find out that model v2 is overfitting, here's how you can roll it back to v1..."
   ]
  },
  {
   "cell_type": "code",
   "execution_count": 19,
   "metadata": {},
   "outputs": [],
   "source": [
    "# rollback\n",
    "clipper_conn.set_model_version(name='xgboostv2-model', version='2')"
   ]
  },
  {
   "cell_type": "code",
   "execution_count": 20,
   "metadata": {
    "scrolled": true
   },
   "outputs": [
    {
     "name": "stdout",
     "output_type": "stream",
     "text": [
      "Model predict for a single instance via Python requests POST request...\n"
     ]
    },
    {
     "data": {
      "text/plain": [
       "{'query_id': 6, 'output': 0.9041093, 'default': False}"
      ]
     },
     "execution_count": 20,
     "metadata": {},
     "output_type": "execute_result"
    }
   ],
   "source": [
    "import requests, json, numpy as np\n",
    "print(\"Model predict for a single instance via Python requests POST request...\")\n",
    "headers = {\"Content-type\": \"application/json\"}\n",
    "requests.post(\"http://localhost:1337/xgboost-airlines/predict\", headers=headers, data=json.dumps({\"input\": get_test_point(0)})).json()"
   ]
  },
  {
   "cell_type": "markdown",
   "metadata": {},
   "source": [
    "### Model Replication"
   ]
  },
  {
   "cell_type": "markdown",
   "metadata": {},
   "source": [
    "Machine learning models can be computationally expensive. A single instance of the model hosting machine may not meet the throughput requirements of a serving workload. In order to increase the prediction throughput you can add additional replicas..."
   ]
  },
  {
   "cell_type": "code",
   "execution_count": 21,
   "metadata": {},
   "outputs": [
    {
     "name": "stderr",
     "output_type": "stream",
     "text": [
      "18-08-22:00:33:13 INFO     [docker_container_manager.py:353] [default-cluster] Found 1 replicas for xgboost-model:1. Adding 9\n"
     ]
    }
   ],
   "source": [
    "clipper_conn.set_num_replicas('xgboost-model', num_replicas=10, version='1')"
   ]
  },
  {
   "cell_type": "code",
   "execution_count": 22,
   "metadata": {},
   "outputs": [
    {
     "name": "stdout",
     "output_type": "stream",
     "text": [
      "CONTAINER ID        IMAGE                                 COMMAND                  CREATED              STATUS                        PORTS                                            NAMES\r\n",
      "2e14fab54dde        default-cluster-xgboost-model:1       \"/container/containe…\"   57 seconds ago       Up 56 seconds (healthy)                                                        xgboost-model_1-50045\r\n",
      "cedd0a671508        default-cluster-xgboost-model:1       \"/container/containe…\"   58 seconds ago       Up 57 seconds (healthy)                                                        xgboost-model_1-58540\r\n",
      "325a91f5e787        default-cluster-xgboost-model:1       \"/container/containe…\"   59 seconds ago       Up 58 seconds (healthy)                                                        xgboost-model_1-55105\r\n",
      "529cf633fc3d        default-cluster-xgboost-model:1       \"/container/containe…\"   About a minute ago   Up 59 seconds (healthy)                                                        xgboost-model_1-72028\r\n",
      "7048b26b9eca        default-cluster-xgboost-model:1       \"/container/containe…\"   About a minute ago   Up About a minute (healthy)                                                    xgboost-model_1-38843\r\n",
      "bdfeeba04421        default-cluster-xgboost-model:1       \"/container/containe…\"   About a minute ago   Up About a minute (healthy)                                                    xgboost-model_1-35907\r\n",
      "d2d15c45e696        default-cluster-xgboost-model:1       \"/container/containe…\"   About a minute ago   Up About a minute (healthy)                                                    xgboost-model_1-5521\r\n",
      "b41933a7c398        default-cluster-xgboost-model:1       \"/container/containe…\"   About a minute ago   Up About a minute (healthy)                                                    xgboost-model_1-14053\r\n",
      "967b5e3e2b6a        default-cluster-xgboost-model:1       \"/container/containe…\"   About a minute ago   Up About a minute (healthy)                                                    xgboost-model_1-31931\r\n",
      "c12ae436a22b        default-cluster-xgboostv2-model:2     \"/container/containe…\"   7 minutes ago        Up 7 minutes (healthy)                                                         xgboostv2-model_2-80925\r\n",
      "def6b8ed204e        default-cluster-xgboost-model:1       \"/container/containe…\"   14 minutes ago       Up 14 minutes (healthy)                                                        xgboost-model_1-64185\r\n",
      "0f2029271e62        prom/prometheus:v2.1.0                \"/bin/prometheus --c…\"   15 minutes ago       Up 14 minutes                 0.0.0.0:9090->9090/tcp                           metric_frontend-11191\r\n",
      "9e4b79f49149        clipper/frontend-exporter:develop     \"python /usr/src/app…\"   15 minutes ago       Up 15 minutes                                                                  query_frontend_exporter-80048\r\n",
      "d0cce2095a2b        clipper/query_frontend:develop        \"/clipper/release/sr…\"   15 minutes ago       Up 15 minutes                 0.0.0.0:1337->1337/tcp, 0.0.0.0:7000->7000/tcp   query_frontend-80048\r\n",
      "f744d1ad7d2f        clipper/management_frontend:develop   \"/clipper/release/sr…\"   15 minutes ago       Up 15 minutes                 0.0.0.0:1338->1338/tcp                           mgmt_frontend-51661\r\n",
      "da5efdc9dc58        redis:alpine                          \"docker-entrypoint.s…\"   15 minutes ago       Up 15 minutes                 0.0.0.0:6379->6379/tcp                           redis-65423\r\n"
     ]
    }
   ],
   "source": [
    "!docker ps"
   ]
  },
  {
   "cell_type": "markdown",
   "metadata": {},
   "source": [
    "### Clipper Troubleshooting Guide\n",
    "[This](http://clipper.ai/tutorials/troubleshooting/) is a helpful guide for troubleshooting common issues with clipper.ai."
   ]
  },
  {
   "cell_type": "code",
   "execution_count": null,
   "metadata": {},
   "outputs": [],
   "source": [
    "# clipper_conn.inspect_instance()\n",
    "# clipper_conn.get_clipper_logs()"
   ]
  },
  {
   "cell_type": "markdown",
   "metadata": {},
   "source": [
    "### Shut down clipper"
   ]
  },
  {
   "cell_type": "code",
   "execution_count": 23,
   "metadata": {},
   "outputs": [
    {
     "name": "stdout",
     "output_type": "stream",
     "text": [
      "Shutting down Clipper connection.\n"
     ]
    },
    {
     "name": "stderr",
     "output_type": "stream",
     "text": [
      "18-08-22:00:45:22 INFO     [clipper_admin.py:1278] [default-cluster] Stopped all Clipper cluster and all model containers\n"
     ]
    }
   ],
   "source": [
    "print(\"Shutting down Clipper connection.\")\n",
    "clipper_conn.stop_all()"
   ]
  },
  {
   "cell_type": "code",
   "execution_count": 24,
   "metadata": {},
   "outputs": [
    {
     "name": "stdout",
     "output_type": "stream",
     "text": [
      "2e14fab54dde\n",
      "cedd0a671508\n",
      "325a91f5e787\n",
      "529cf633fc3d\n",
      "7048b26b9eca\n",
      "bdfeeba04421\n",
      "d2d15c45e696\n",
      "b41933a7c398\n",
      "967b5e3e2b6a\n",
      "c12ae436a22b\n",
      "def6b8ed204e\n",
      "0f2029271e62\n",
      "9e4b79f49149\n",
      "d0cce2095a2b\n",
      "f744d1ad7d2f\n",
      "da5efdc9dc58\n"
     ]
    }
   ],
   "source": [
    "# stop all containers:\n",
    "!docker rm $(docker ps -a -q)"
   ]
  },
  {
   "cell_type": "code",
   "execution_count": 25,
   "metadata": {},
   "outputs": [
    {
     "name": "stdout",
     "output_type": "stream",
     "text": [
      "CONTAINER ID        IMAGE               COMMAND             CREATED             STATUS              PORTS               NAMES\r\n"
     ]
    }
   ],
   "source": [
    "!docker ps"
   ]
  },
  {
   "cell_type": "markdown",
   "metadata": {},
   "source": [
    "### Some other useful system commands"
   ]
  },
  {
   "cell_type": "code",
   "execution_count": null,
   "metadata": {},
   "outputs": [],
   "source": [
    "# stop all containers:\n",
    "# docker kill $(docker ps -q)\n",
    "\n",
    "# remove all containers\n",
    "# !docker rm $(docker ps -a -q)\n",
    "\n",
    "# remove all docker images\n",
    "# docker rmi $(docker images -q)"
   ]
  }
 ],
 "metadata": {
  "kernelspec": {
   "display_name": "Python 3",
   "language": "python",
   "name": "python3"
  },
  "language_info": {
   "codemirror_mode": {
    "name": "ipython",
    "version": 3
   },
   "file_extension": ".py",
   "mimetype": "text/x-python",
   "name": "python",
   "nbconvert_exporter": "python",
   "pygments_lexer": "ipython3",
   "version": "3.6.5"
  }
 },
 "nbformat": 4,
 "nbformat_minor": 2
}
